{
 "cells": [
  {
   "cell_type": "code",
   "execution_count": 13,
   "metadata": {},
   "outputs": [
    {
     "name": "stdout",
     "output_type": "stream",
     "text": [
      "{'4': 'Spider-Man: Into the Spider-Verse', '7': 'Coco', '35': 'Apocalypse Now', '48': 'WALL-E', '59': 'Aliens', '69': 'The Princess Bride', '82': 'Ran', '85': 'The Lord of the Rings: The Two Towers', '87': 'Back to the Future', '100': 'Toy Story 4', '132': 'The Nightmare Before Christmas', '135': 'Grave of the Fireflies', '137': 'Your Name', '138': 'Spirited Away', '144': 'Waltz With Bashir', '146': 'Persepolis', '152': 'Aladdin', '175': 'Mary and Max', '244': 'Sing Street', '256': 'Wings of Desire', '266': 'All About My Mother', '281': 'Blue', '440': 'Monty Python and the Holy Grail', '453': 'Annie Hall', '500': \"Won't You Be My Neighbor?\", '516': 'Free Solo', '517': 'The Last Waltz', '520': 'Stop Making Sense', '525': 'Maiden', '544': 'Hoop Dreams', '558': 'Rewind', '582': 'When We Were Kings', '589': 'The King of Kong: A Fistful of Quarters', '591': 'The Fog of War', '597': 'Searching for Sugar Man', '605': 'Knives Out', '622': 'Spotlight', '636': '12 Years a Slave', '640': 'Alien', '657': 'Pain and Glory', '690': 'Taxi Driver', '697': 'L.A. Confidential', '718': 'The Silence of the Lambs', '723': \"Pan's Labyrinth\", '857': 'The Straight Story', '948': 'Exit Through the Gift Shop', '950': 'Marley', '965': 'Born Into Brothels', '971': 'Black Is King', '975': 'Lagaan: Once Upon a Time in India', '977': 'End of the Century', '1357': 'No End in Sight', '1374': 'The Salt of the Earth', '1412': 'The Crash Reel', '1474': 'The Return', '1531': 'Unforgiven'}\n",
      "56\n",
      "{'605': 'Knives Out', '622': 'Spotlight', '636': '12 Years a Slave', '640': 'Alien', '657': 'Pain and Glory', '690': 'Taxi Driver', '697': 'L.A. Confidential'}\n",
      "7\n",
      "{}\n",
      "0\n"
     ]
    }
   ],
   "source": [
    "import csv\n",
    "# open the CSV file\n",
    "with open('rotten_tomatoes_top_movies.csv', newline='') as csvfile:\n",
    "    # create a CSV reader object\n",
    "    reader = csv.reader(csvfile, delimiter=',')\n",
    "    \n",
    "    # read the header row\n",
    "    header = next(reader)\n",
    "    \n",
    "    # create empty lists for each column\n",
    "    index = []\n",
    "    movie_name = []\n",
    "    critic_score = []\n",
    "    audience_score = []\n",
    "    year = []\n",
    "    movie_type = []\n",
    "    runtime = []\n",
    "    \n",
    "    # read each row and append the values to the appropriate column list\n",
    "    for row in reader:\n",
    "        index.append(row[0])\n",
    "        movie_name.append(row[1])\n",
    "        critic_score.append(row[4])\n",
    "        audience_score.append(row[5])\n",
    "        year.append(row[2])\n",
    "        movie_type.append(row[9])\n",
    "        runtime.append(row[19])\n",
    "\n",
    "#Find difference in critic and audience score\n",
    "score_diff = []\n",
    "\n",
    "for i in range(len(critic_score)):\n",
    "    difference = int(critic_score[i]) - int(audience_score[i])\n",
    "    score_diff.append(difference)\n",
    "\n",
    "#Create dictionaries for the names and genres with the indices as the keys\n",
    "movie_name_dic1 = {}\n",
    "movie_type_dic = {}\n",
    "movie_runtime_dic = {}\n",
    "\n",
    "for i in range(len(index)):\n",
    "    movie_name_dic1[index[i]] = movie_name[i]\n",
    "\n",
    "for i in range(len(index)):\n",
    "    movie_type_dic[index[i]] = movie_type[i]\n",
    "\n",
    "for i in range(len(index)):\n",
    "    movie_runtime_dic[index[i]] = runtime[i]\n",
    "\n",
    "#Remove duplicates from the dictionaries\n",
    "movie_name_dic = {}\n",
    "\n",
    "for i, j in movie_name_dic1.items():\n",
    "    if j not in movie_name_dic.values():\n",
    "        movie_name_dic[i] = j\n",
    "\n",
    "\n",
    "#Sort the movies by year and rating\n",
    "good_movies = {}\n",
    "for i, j in movie_name_dic.items():\n",
    "    if int(year[int(i)]) >= 1975:\n",
    "        if int(critic_score[int(i)]) >= 95:\n",
    "            if int(score_diff[int(i)]) <= 5:\n",
    "                good_movies[index[int(i)]] = (movie_name[int(i)])\n",
    "\n",
    "print(good_movies)\n",
    "print(len(good_movies))\n",
    "\n",
    "#Sort the movies by genre\n",
    "genre_search = input('What genre would you like to watch? (Action & Adventure, Animation, Art House & International, Classics, Comedy, Documentary, Drama, Horror, Kids & Family, Musical & Performing Arts, Mystery & Suspense, Romance, Science Fiction & Fantasy, Special Interest, Sports & Fitness, Television, Western)')\n",
    "good_movies_by_genre = {}\n",
    "\n",
    "for i, j in good_movies.items():\n",
    "    movie_genre = movie_type_dic[i]\n",
    "    if movie_genre == genre_search:\n",
    "        good_movies_by_genre[i] = j\n",
    "print(good_movies_by_genre)\n",
    "print(len(good_movies_by_genre))\n",
    "\n",
    "#Sort by movie runtime\n",
    "runtime_search = input('How long would you like the movie to be? (1, 2 or 3)')\n",
    "good_movies_by_runtime = {}\n",
    "\n",
    "for i, j in good_movies.items():\n",
    "    movie_runtime = movie_runtime_dic[i]\n",
    "    if movie_runtime == runtime_search:\n",
    "        good_movies_by_runtime[i] = j\n",
    "print(good_movies_by_runtime)\n",
    "print(len(good_movies_by_runtime))"
   ]
  },
  {
   "cell_type": "code",
   "execution_count": 99,
   "metadata": {},
   "outputs": [
    {
     "name": "stdout",
     "output_type": "stream",
     "text": [
      "{}\n"
     ]
    }
   ],
   "source": [
    "movie_names = {1: 'The Shawshank Redemption', 2: 'The Godfather', 3: 'The Dark Knight', 4: 'Pulp Fiction'}\n",
    "movie_genres = {1: 'Drama', 2: 'Crime', 3: 'Action', 4: 'Crime'}\n",
    "\n",
    "# Get user input for the genre to filter by\n",
    "user_genre = input(\"Enter a genre to filter by: \")\n",
    "\n",
    "# Create a new dictionary to hold the filtered results\n",
    "filtered_movies = {}\n",
    "\n",
    "# Iterate through the keys and values of both dictionaries\n",
    "for movie_id, movie_name in movie_names.items():\n",
    "    movie_genre = movie_genres[movie_id]\n",
    "    if movie_genre == user_genre:\n",
    "        # If the movie matches the inputted genre, add it to the filtered dictionary\n",
    "        filtered_movies[movie_id] = movie_name\n",
    "print(filtered_movies)"
   ]
  },
  {
   "cell_type": "code",
   "execution_count": null,
   "metadata": {},
   "outputs": [],
   "source": []
  }
 ],
 "metadata": {
  "kernelspec": {
   "display_name": "base",
   "language": "python",
   "name": "python3"
  },
  "language_info": {
   "codemirror_mode": {
    "name": "ipython",
    "version": 3
   },
   "file_extension": ".py",
   "mimetype": "text/x-python",
   "name": "python",
   "nbconvert_exporter": "python",
   "pygments_lexer": "ipython3",
   "version": "3.9.13"
  },
  "orig_nbformat": 4
 },
 "nbformat": 4,
 "nbformat_minor": 2
}
